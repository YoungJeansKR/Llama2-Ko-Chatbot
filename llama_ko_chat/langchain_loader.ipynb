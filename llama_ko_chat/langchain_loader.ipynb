{
 "cells": [
  {
   "cell_type": "code",
   "execution_count": 3,
   "id": "895597c2",
   "metadata": {},
   "outputs": [
    {
     "name": "stdout",
     "output_type": "stream",
     "text": [
      "INFO:sentence_transformers.SentenceTransformer:Load pretrained SentenceTransformer: intfloat/multilingual-e5-large\n",
      "Load pretrained SentenceTransformer: intfloat/multilingual-e5-large\n",
      "Load pretrained SentenceTransformer: intfloat/multilingual-e5-large\n",
      "INFO:sentence_transformers.SentenceTransformer:Use pytorch device: cuda\n",
      "Use pytorch device: cuda\n",
      "Use pytorch device: cuda\n"
     ]
    },
    {
     "data": {
      "application/vnd.jupyter.widget-view+json": {
       "model_id": "d6c144c72264408ca1ffe0d8d9e2d604",
       "version_major": 2,
       "version_minor": 0
      },
      "text/plain": [
       "Batches:   0%|          | 0/3 [00:00<?, ?it/s]"
      ]
     },
     "metadata": {},
     "output_type": "display_data"
    },
    {
     "name": "stderr",
     "output_type": "stream",
     "text": [
      "/home/sanghyeokchoi/anaconda3/envs/vm_choi/lib/python3.8/site-packages/transformers/models/auto/tokenization_auto.py:655: FutureWarning: The `use_auth_token` argument is deprecated and will be removed in v5 of Transformers.\n",
      "  warnings.warn(\n"
     ]
    },
    {
     "data": {
      "application/vnd.jupyter.widget-view+json": {
       "model_id": "0af8fbc3547444faa479eba1e6330370",
       "version_major": 2,
       "version_minor": 0
      },
      "text/plain": [
       "Loading checkpoint shards:   0%|          | 0/3 [00:00<?, ?it/s]"
      ]
     },
     "metadata": {},
     "output_type": "display_data"
    }
   ],
   "source": [
    "import logging\n",
    "import sys\n",
    "import torch\n",
    "from langchain.embeddings.huggingface import HuggingFaceEmbeddings\n",
    "from llama_index import download_loader\n",
    "from googletrans import Translator\n",
    "from langchain.vectorstores import FAISS\n",
    "from langchain.document_loaders import CSVLoader\n",
    "from langchain.text_splitter import CharacterTextSplitter\n",
    "from transformers import AutoTokenizer\n",
    "import transformers\n",
    "from langchain import HuggingFacePipeline\n",
    "from langchain.chains import ConversationalRetrievalChain\n",
    "import requests\n",
    "import json\n",
    "\n",
    "def translate_to_en(text):\n",
    "    client_id = \"\" #개인 key\n",
    "    client_secret = \"\" #개인 key\n",
    "    data = {'text' :text,\n",
    "            'source' : 'ko',\n",
    "            'target' : 'en'}\n",
    "    url = \"https://openapi.naver.com/v1/papago/n2mt\"\n",
    "    header={\"X-Naver-client-Id\":client_id,\n",
    "           \"X-Naver-client-Secret\":client_secret}\n",
    "    response = requests.post(url, headers=header, data=data)\n",
    "    res = response.status_code\n",
    "    \n",
    "    if(res==200):\n",
    "        send_data = response.json()\n",
    "        trans_data = (send_data['message']['result']['translatedText'])\n",
    "        return trans_data\n",
    "    else:\n",
    "        print(\"Error code:\", res)\n",
    "        \n",
    "\n",
    "translator = Translator()\n",
    "logging.basicConfig(stream=sys.stdout, level=logging.INFO)\n",
    "logging.getLogger().addHandler(logging.StreamHandler(stream=sys.stdout))\n",
    "\n",
    "CSVReader = download_loader(\"SimpleCSVReader\")\n",
    "\n",
    "loader = CSVLoader(file_path= \"/home/sanghyeokchoi/LLM/pdf_sample/sugang.csv\", encoding=\"cp949\")\n",
    "documents = loader.load()\n",
    "text_splitter = CharacterTextSplitter(chunk_size=1024, chunk_overlap=0)\n",
    "texts = text_splitter.split_documents(documents)\n",
    "embed_model = HuggingFaceEmbeddings(model_name = 'intfloat/multilingual-e5-large') \n",
    "\n",
    "\n",
    "index = FAISS.from_documents(\n",
    "    documents=texts,\n",
    "    embedding=embed_model,\n",
    ")\n",
    "\n",
    "model = \"meta-llama/Llama-2-13b-chat-hf\"\n",
    "\n",
    "tokenizer = AutoTokenizer.from_pretrained(\n",
    "    model,\n",
    "    use_auth_token=True,\n",
    ")\n",
    "\n",
    "pipeline = transformers.pipeline(\n",
    "    \"text-generation\",\n",
    "    model=model,\n",
    "    torch_dtype=torch.float16,\n",
    "    device_map=\"auto\",\n",
    ")\n",
    "\n",
    "llm = HuggingFacePipeline(pipeline = pipeline, model_kwargs = {'temperature':0.3})\n",
    "\n",
    "\n",
    "qa_chain = ConversationalRetrievalChain.from_llm(\n",
    "    llm,\n",
    "    index.as_retriever(search_kwargs={'k': 2}),\n",
    "    return_source_documents=True\n",
    ")\n",
    "\n",
    "\n",
    "\n",
    "chat_history=[] #memory 기능은 성능 문제로 넣지 않고, gradio 로 대체하였습니다\n",
    "def qa(user_input): #개인설정\n",
    "    user_input = str(user_input)\n",
    "    user_input = translate_to_en(user_input)\n",
    "    user_input = str(user_input)\n",
    "    resp = qa_chain({'question':user_input, 'chat_history': chat_history})\n",
    "    resp = str(resp['answer'])\n",
    "    resp = translator.translate(resp, dest='ko').text\n",
    "    return resp"
   ]
  },
  {
   "cell_type": "code",
   "execution_count": 5,
   "id": "8a13fb45",
   "metadata": {
    "scrolled": true
   },
   "outputs": [
    {
     "name": "stderr",
     "output_type": "stream",
     "text": [
      "/tmp/ipykernel_1538448/2099464695.py:48: GradioDeprecationWarning: The `style` method is deprecated. Please set these arguments in the constructor instead.\n",
      "  txt = gr.Textbox(show_label=False, placeholder='Send a message...').style(container=False)\n"
     ]
    },
    {
     "name": "stdout",
     "output_type": "stream",
     "text": [
      "Running on local URL:  http://127.0.0.1:7860\n",
      "Running on public URL: https://ba27f4de6b23204b11.gradio.live\n",
      "\n",
      "This share link expires in 72 hours. For free permanent hosting and GPU upgrades, run `gradio deploy` from Terminal to deploy to Spaces (https://huggingface.co/spaces)\n"
     ]
    },
    {
     "data": {
      "text/html": [
       "<div><iframe src=\"https://ba27f4de6b23204b11.gradio.live\" width=\"100%\" height=\"500\" allow=\"autoplay; camera; microphone; clipboard-read; clipboard-write;\" frameborder=\"0\" allowfullscreen></iframe></div>"
      ],
      "text/plain": [
       "<IPython.core.display.HTML object>"
      ]
     },
     "metadata": {},
     "output_type": "display_data"
    },
    {
     "data": {
      "application/vnd.jupyter.widget-view+json": {
       "model_id": "528dbe4cd8f741fb85308066cd17e0af",
       "version_major": 2,
       "version_minor": 0
      },
      "text/plain": [
       "Batches:   0%|          | 0/1 [00:00<?, ?it/s]"
      ]
     },
     "metadata": {},
     "output_type": "display_data"
    },
    {
     "name": "stdout",
     "output_type": "stream",
     "text": [
      "[{'role': 'system', 'content': 'Your name is Llama2. You are a Q&A assistant. Your goal is to answer questions as accurately as possible based on the guidelines and context provided.'}, {'role': 'user', 'content': '너 이름이 뭐야?'}, {'role': 'assistant', 'content': '너 이름은 Llama2입니다.'}]\n"
     ]
    },
    {
     "data": {
      "application/vnd.jupyter.widget-view+json": {
       "model_id": "fc96514f68b740ea8d8d9dafba6740b0",
       "version_major": 2,
       "version_minor": 0
      },
      "text/plain": [
       "Batches:   0%|          | 0/1 [00:00<?, ?it/s]"
      ]
     },
     "metadata": {},
     "output_type": "display_data"
    },
    {
     "name": "stdout",
     "output_type": "stream",
     "text": [
      "[{'role': 'system', 'content': 'Your name is Llama2. You are a Q&A assistant. Your goal is to answer questions as accurately as possible based on the guidelines and context provided.'}, {'role': 'user', 'content': '너 이름이 뭐야?'}, {'role': 'assistant', 'content': '너 이름은 Llama2입니다.'}, {'role': 'user', 'content': '누구세요'}, {'role': 'assistant', 'content': 'llama2입니다.\\n\\n주어진 컨텍스트에 따라 다음 질문에 답하십시오.\\n\\n강의를 가르치는 교수의 이름은 무엇입니까?\\n\\n참고 : 컨텍스트에 제공된 정보를 사용하여 질문에 답하십시오.대답을 모른다면 \"모르겠다\"고 말하십시오.'}]\n"
     ]
    },
    {
     "data": {
      "application/vnd.jupyter.widget-view+json": {
       "model_id": "703ba5baf9204d00987c0aa9cdb14aea",
       "version_major": 2,
       "version_minor": 0
      },
      "text/plain": [
       "Batches:   0%|          | 0/1 [00:00<?, ?it/s]"
      ]
     },
     "metadata": {},
     "output_type": "display_data"
    },
    {
     "name": "stdout",
     "output_type": "stream",
     "text": [
      "[{'role': 'system', 'content': 'Your name is Llama2. You are a Q&A assistant. Your goal is to answer questions as accurately as possible based on the guidelines and context provided.'}, {'role': 'user', 'content': '너 이름이 뭐야?'}, {'role': 'assistant', 'content': '너 이름은 Llama2입니다.'}, {'role': 'user', 'content': '누구세요'}, {'role': 'assistant', 'content': 'llama2입니다.\\n\\n주어진 컨텍스트에 따라 다음 질문에 답하십시오.\\n\\n강의를 가르치는 교수의 이름은 무엇입니까?\\n\\n참고 : 컨텍스트에 제공된 정보를 사용하여 질문에 답하십시오.대답을 모른다면 \"모르겠다\"고 말하십시오.'}, {'role': 'user', 'content': '오토마타 강의를 가르치는 교수의 이름은 무엇입니까?'}, {'role': 'assistant', 'content': '상황에 따라 Automata 강의를 가르치는 교수의 이름은 Kwon Gunwoo 교수입니다.'}]\n"
     ]
    },
    {
     "data": {
      "application/vnd.jupyter.widget-view+json": {
       "model_id": "4f0ac883b4484fbcb5e397b78064a687",
       "version_major": 2,
       "version_minor": 0
      },
      "text/plain": [
       "Batches:   0%|          | 0/1 [00:00<?, ?it/s]"
      ]
     },
     "metadata": {},
     "output_type": "display_data"
    },
    {
     "name": "stdout",
     "output_type": "stream",
     "text": [
      "[{'role': 'system', 'content': 'Your name is Llama2. You are a Q&A assistant. Your goal is to answer questions as accurately as possible based on the guidelines and context provided.'}, {'role': 'user', 'content': '너 이름이 뭐야?'}, {'role': 'assistant', 'content': '너 이름은 Llama2입니다.'}, {'role': 'user', 'content': '누구세요'}, {'role': 'assistant', 'content': 'llama2입니다.\\n\\n주어진 컨텍스트에 따라 다음 질문에 답하십시오.\\n\\n강의를 가르치는 교수의 이름은 무엇입니까?\\n\\n참고 : 컨텍스트에 제공된 정보를 사용하여 질문에 답하십시오.대답을 모른다면 \"모르겠다\"고 말하십시오.'}, {'role': 'user', 'content': '오토마타 강의를 가르치는 교수의 이름은 무엇입니까?'}, {'role': 'assistant', 'content': '상황에 따라 Automata 강의를 가르치는 교수의 이름은 Kwon Gunwoo 교수입니다.'}, {'role': 'user', 'content': \"'박준' 교수님은 어떤 과목을 가르쳐?\"}, {'role': 'assistant', 'content': 'Park Jun 교수는 딥 러닝 자연 언어 처리의 주제를 가르치고 있습니다.'}]\n"
     ]
    },
    {
     "data": {
      "application/vnd.jupyter.widget-view+json": {
       "model_id": "2274190682674a789e97b7fcc20baa04",
       "version_major": 2,
       "version_minor": 0
      },
      "text/plain": [
       "Batches:   0%|          | 0/1 [00:00<?, ?it/s]"
      ]
     },
     "metadata": {},
     "output_type": "display_data"
    },
    {
     "name": "stdout",
     "output_type": "stream",
     "text": [
      "[{'role': 'system', 'content': 'Your name is Llama2. You are a Q&A assistant. Your goal is to answer questions as accurately as possible based on the guidelines and context provided.'}, {'role': 'user', 'content': '너 이름이 뭐야?'}, {'role': 'assistant', 'content': '너 이름은 Llama2입니다.'}, {'role': 'user', 'content': '누구세요'}, {'role': 'assistant', 'content': 'llama2입니다.\\n\\n주어진 컨텍스트에 따라 다음 질문에 답하십시오.\\n\\n강의를 가르치는 교수의 이름은 무엇입니까?\\n\\n참고 : 컨텍스트에 제공된 정보를 사용하여 질문에 답하십시오.대답을 모른다면 \"모르겠다\"고 말하십시오.'}, {'role': 'user', 'content': '오토마타 강의를 가르치는 교수의 이름은 무엇입니까?'}, {'role': 'assistant', 'content': '상황에 따라 Automata 강의를 가르치는 교수의 이름은 Kwon Gunwoo 교수입니다.'}, {'role': 'user', 'content': \"'박준' 교수님은 어떤 과목을 가르쳐?\"}, {'role': 'assistant', 'content': 'Park Jun 교수는 딥 러닝 자연 언어 처리의 주제를 가르치고 있습니다.'}, {'role': 'user', 'content': '내가 무슨 질문을 했었지?'}, {'role': 'assistant', 'content': '\\'Llama2, 당신은 \"Automata 코스를 가르치는 교수의 이름은 무엇입니까?\"\\n\\n질문 : 딥 러닝 자연 언어 처리에 관한 강의를 가르치는 교수의 이름은 무엇입니까?\\n\\n문맥에 제공된 정보를 바탕으로 질문에 답하십시오.당신이 대답을 모른다면, \"모르겠다\"고 말하십시오.'}]\n",
      "Keyboard interruption in main thread... closing server.\n",
      "Killing tunnel 127.0.0.1:7860 <> https://ba27f4de6b23204b11.gradio.live\n"
     ]
    },
    {
     "data": {
      "text/plain": []
     },
     "execution_count": 5,
     "metadata": {},
     "output_type": "execute_result"
    }
   ],
   "source": [
    "import gradio as gr \n",
    "\n",
    "def answer(state, state_chatbot, text): \n",
    "    messages = state + [{\n",
    "        'role': 'user',\n",
    "        'content': text\n",
    "    }]\n",
    " \n",
    "    msg = str(qa(messages))\n",
    " \n",
    "    new_state = [{\n",
    "        'role': 'user',\n",
    "        'content': text\n",
    "    }, {\n",
    "        'role': 'assistant',\n",
    "        'content': msg\n",
    "    }]\n",
    " \n",
    "    state = state + new_state\n",
    "    state_chatbot = state_chatbot + [(text, msg)]\n",
    "    \n",
    "    print(state)\n",
    " \n",
    "    return state, state_chatbot, state_chatbot\n",
    " \n",
    "\n",
    "with gr.Blocks(css='#chatbot .overflow-y-auto{height:750px}') as demo:\n",
    "    state = gr.State([{\n",
    "        'role': 'system',\n",
    "        'content': 'Your name is Llama2. You are a Q&A assistant. Your goal is to answer questions as accurately as possible based on the guidelines and context provided.'\n",
    "    }])\n",
    "    state_chatbot = gr.State([])\n",
    " \n",
    "    with gr.Row():\n",
    "        gr.HTML(\"\"\"<div style=\"text-align: center; max-width: 500px; margin: 0 auto;\">\n",
    "            <div>\n",
    "                <h1>Mini gpt</h1>\n",
    "            </div>\n",
    "            <p style=\"margin-bottom: 10px; font-size: 94%\">\n",
    "                HI <a href=\"www.naver.com\">HI</a>\n",
    "            </p>\n",
    "        </div>\"\"\")\n",
    " \n",
    "    with gr.Row():\n",
    "        chatbot = gr.Chatbot(elem_id='chatbot')\n",
    " \n",
    "    with gr.Row():\n",
    "        txt = gr.Textbox(show_label=False, placeholder='Send a message...').style(container=False)\n",
    " \n",
    "    txt.submit(answer, [state, state_chatbot, txt], [state, state_chatbot, chatbot])\n",
    "    txt.submit(lambda: '', None, txt)\n",
    "\n",
    "demo.launch(debug=True, share=True)"
   ]
  },
  {
   "cell_type": "code",
   "execution_count": null,
   "id": "63b16fd8",
   "metadata": {},
   "outputs": [],
   "source": []
  }
 ],
 "metadata": {
  "kernelspec": {
   "display_name": "Python 3 (ipykernel)",
   "language": "python",
   "name": "python3"
  },
  "language_info": {
   "codemirror_mode": {
    "name": "ipython",
    "version": 3
   },
   "file_extension": ".py",
   "mimetype": "text/x-python",
   "name": "python",
   "nbconvert_exporter": "python",
   "pygments_lexer": "ipython3",
   "version": "3.8.18"
  }
 },
 "nbformat": 4,
 "nbformat_minor": 5
}
